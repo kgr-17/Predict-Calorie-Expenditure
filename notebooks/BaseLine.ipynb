{
 "cells": [
  {
   "cell_type": "code",
   "execution_count": 3,
   "id": "4b8ad814-d90c-4e6e-bbae-88ab515b28c8",
   "metadata": {},
   "outputs": [],
   "source": [
    "import pandas as pd\n",
    "import numpy as np\n",
    "from sklearn.metrics import mean_squared_log_error\n",
    "\n"
   ]
  },
  {
   "cell_type": "code",
   "execution_count": 4,
   "id": "c9c531e0-b071-4114-94f5-e0f8db0e2e97",
   "metadata": {},
   "outputs": [
    {
     "name": "stdout",
     "output_type": "stream",
     "text": [
      "=== TRAIN INFO ===\n",
      "<class 'pandas.core.frame.DataFrame'>\n",
      "RangeIndex: 750000 entries, 0 to 749999\n",
      "Data columns (total 9 columns):\n",
      " #   Column      Non-Null Count   Dtype  \n",
      "---  ------      --------------   -----  \n",
      " 0   id          750000 non-null  int64  \n",
      " 1   Sex         750000 non-null  object \n",
      " 2   Age         750000 non-null  int64  \n",
      " 3   Height      750000 non-null  float64\n",
      " 4   Weight      750000 non-null  float64\n",
      " 5   Duration    750000 non-null  float64\n",
      " 6   Heart_Rate  750000 non-null  float64\n",
      " 7   Body_Temp   750000 non-null  float64\n",
      " 8   Calories    750000 non-null  float64\n",
      "dtypes: float64(6), int64(2), object(1)\n",
      "memory usage: 51.5+ MB\n",
      "\n",
      "=== TRAIN DESCRIBE ===\n",
      "                  id            Age         Height         Weight  \\\n",
      "count  750000.000000  750000.000000  750000.000000  750000.000000   \n",
      "mean   374999.500000      41.420404     174.697685      75.145668   \n",
      "std    216506.495284      15.175049      12.824496      13.982704   \n",
      "min         0.000000      20.000000     126.000000      36.000000   \n",
      "25%    187499.750000      28.000000     164.000000      63.000000   \n",
      "50%    374999.500000      40.000000     174.000000      74.000000   \n",
      "75%    562499.250000      52.000000     185.000000      87.000000   \n",
      "max    749999.000000      79.000000     222.000000     132.000000   \n",
      "\n",
      "            Duration     Heart_Rate      Body_Temp       Calories  \n",
      "count  750000.000000  750000.000000  750000.000000  750000.000000  \n",
      "mean       15.421015      95.483995      40.036253      88.282781  \n",
      "std         8.354095       9.449845       0.779875      62.395349  \n",
      "min         1.000000      67.000000      37.100000       1.000000  \n",
      "25%         8.000000      88.000000      39.600000      34.000000  \n",
      "50%        15.000000      95.000000      40.300000      77.000000  \n",
      "75%        23.000000     103.000000      40.700000     136.000000  \n",
      "max        30.000000     128.000000      41.500000     314.000000  \n",
      "\n",
      "=== TRAIN HEAD ===\n",
      "   id     Sex  Age  Height  Weight  Duration  Heart_Rate  Body_Temp  Calories\n",
      "0   0    male   36   189.0    82.0      26.0       101.0       41.0     150.0\n",
      "1   1  female   64   163.0    60.0       8.0        85.0       39.7      34.0\n",
      "2   2  female   51   161.0    64.0       7.0        84.0       39.8      29.0\n",
      "3   3    male   20   192.0    90.0      25.0       105.0       40.7     140.0\n",
      "4   4  female   38   166.0    61.0      25.0       102.0       40.6     146.0\n",
      "\n",
      "=== SEX VALUE COUNTS ===\n",
      "Sex\n",
      "female    375721\n",
      "male      374279\n",
      "Name: count, dtype: int64\n"
     ]
    }
   ],
   "source": [
    "\n",
    "\n",
    "# 1. Load the data\n",
    "train = pd.read_csv('train.csv')\n",
    "test  = pd.read_csv('test.csv')\n",
    "\n",
    "# 2. Basic info & statistics\n",
    "print(\"=== TRAIN INFO ===\")\n",
    "train.info()\n",
    "print(\"\\n=== TRAIN DESCRIBE ===\")\n",
    "print(train.describe())\n",
    "\n",
    "# 3. Peek at the first few rows\n",
    "print(\"\\n=== TRAIN HEAD ===\")\n",
    "print(train.head())\n",
    "\n",
    "# 4. Quick look at categorical distribution\n",
    "print(\"\\n=== SEX VALUE COUNTS ===\")\n",
    "print(train['Sex'].value_counts())\n"
   ]
  },
  {
   "cell_type": "code",
   "execution_count": 5,
   "id": "701927d5-049d-48fe-a721-3391df7a1d5b",
   "metadata": {},
   "outputs": [
    {
     "name": "stdout",
     "output_type": "stream",
     "text": [
      "   Calories  Calories_baseline\n",
      "0     150.0         200.013576\n",
      "1      34.0          28.236711\n",
      "2      29.0          21.504254\n",
      "3     140.0         197.619503\n",
      "4     146.0         121.414316\n"
     ]
    }
   ],
   "source": [
    "\n",
    "\n",
    "def keytel_calories(row):\n",
    "    hr, w, a, dur = row['Heart_Rate'], row['Weight'], row['Age'], row['Duration']\n",
    "    if row['Sex'] == 'male':\n",
    "        kcal_per_min = (-55.0969 + 0.6309*hr + 0.1988*w + 0.2017*a) / 4.184\n",
    "    else:\n",
    "        kcal_per_min = (-20.4022 + 0.4472*hr - 0.1263*w + 0.074*a) / 4.184\n",
    "    return kcal_per_min * dur\n",
    "\n",
    "# Apply to your DataFrame\n",
    "train['Calories_baseline'] = train.apply(keytel_calories, axis=1)\n",
    "\n",
    "# Quick check: compare first few predictions to actuals\n",
    "print(train[['Calories', 'Calories_baseline']].head())\n"
   ]
  },
  {
   "cell_type": "code",
   "execution_count": 7,
   "id": "32b04672-d57a-4ab1-84c5-4e461ac6023e",
   "metadata": {},
   "outputs": [
    {
     "name": "stdout",
     "output_type": "stream",
     "text": [
      "Baseline RMSLE: 0.3282\n"
     ]
    }
   ],
   "source": [
    "\n",
    "# Clip negatives to zero\n",
    "y_true = train['Calories']\n",
    "y_pred = train['Calories_baseline'].clip(lower=0)\n",
    "\n",
    "# Compute RMSLE\n",
    "rmsle = np.sqrt(mean_squared_log_error(y_true, y_pred))\n",
    "print(f\"Baseline RMSLE: {rmsle:.4f}\")\n"
   ]
  },
  {
   "cell_type": "code",
   "execution_count": 11,
   "id": "668b4d4d-14e3-4bd7-abdb-c2f34c06eecc",
   "metadata": {},
   "outputs": [
    {
     "name": "stdout",
     "output_type": "stream",
     "text": [
      "Wrote submission.csv with 250000 rows.\n"
     ]
    }
   ],
   "source": [
    "# 1) Build your submission DataFrame\n",
    "\n",
    "sub_df = pd.read_csv(\"test.csv\")\n",
    "preds = sub_df.apply(keytel_calories, axis=1)\n",
    "\n",
    "submission = pd.DataFrame({\n",
    "    'id':    sub_df['id'],      # test_df came from reading “test.csv”\n",
    "    'Calories': preds            # preds is your model’s 1D array of calorie predictions\n",
    "})\n",
    "\n",
    "# 2) Write it out\n",
    "submission.to_csv('submission.csv', index=False)\n",
    "print(\"Wrote submission.csv with\", len(submission), \"rows.\")\n"
   ]
  }
 ],
 "metadata": {
  "kernelspec": {
   "display_name": "Python 3 (ipykernel)",
   "language": "python",
   "name": "python3"
  },
  "language_info": {
   "codemirror_mode": {
    "name": "ipython",
    "version": 3
   },
   "file_extension": ".py",
   "mimetype": "text/x-python",
   "name": "python",
   "nbconvert_exporter": "python",
   "pygments_lexer": "ipython3",
   "version": "3.9.22"
  }
 },
 "nbformat": 4,
 "nbformat_minor": 5
}
